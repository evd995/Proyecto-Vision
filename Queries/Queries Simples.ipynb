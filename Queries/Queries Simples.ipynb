{
 "cells": [
  {
   "cell_type": "code",
   "execution_count": 31,
   "metadata": {},
   "outputs": [],
   "source": [
    "import numpy as np\n",
    "import pandas as pd\n",
    "import os\n",
    "import cv2\n",
    "from tqdm.auto import tqdm"
   ]
  },
  {
   "cell_type": "markdown",
   "metadata": {},
   "source": [
    "# Analisis de datos"
   ]
  },
  {
   "cell_type": "code",
   "execution_count": 45,
   "metadata": {},
   "outputs": [
    {
     "data": {
      "text/html": [
       "<div>\n",
       "<style scoped>\n",
       "    .dataframe tbody tr th:only-of-type {\n",
       "        vertical-align: middle;\n",
       "    }\n",
       "\n",
       "    .dataframe tbody tr th {\n",
       "        vertical-align: top;\n",
       "    }\n",
       "\n",
       "    .dataframe thead th {\n",
       "        text-align: right;\n",
       "    }\n",
       "</style>\n",
       "<table border=\"1\" class=\"dataframe\">\n",
       "  <thead>\n",
       "    <tr style=\"text-align: right;\">\n",
       "      <th></th>\n",
       "      <th></th>\n",
       "      <th>angry</th>\n",
       "      <th>disgust</th>\n",
       "      <th>scared</th>\n",
       "      <th>happy</th>\n",
       "      <th>sad</th>\n",
       "      <th>surprised</th>\n",
       "      <th>neutral</th>\n",
       "      <th>max_emotion</th>\n",
       "      <th>yaw</th>\n",
       "      <th>pitch</th>\n",
       "      <th>roll</th>\n",
       "      <th>Mira A (Index)</th>\n",
       "      <th>bb_x_min</th>\n",
       "      <th>bb_y_min</th>\n",
       "      <th>bb_x_max</th>\n",
       "      <th>bb_y_max</th>\n",
       "      <th>ID</th>\n",
       "      <th>Mira A (ID)</th>\n",
       "    </tr>\n",
       "    <tr>\n",
       "      <th>Frame</th>\n",
       "      <th>Index</th>\n",
       "      <th></th>\n",
       "      <th></th>\n",
       "      <th></th>\n",
       "      <th></th>\n",
       "      <th></th>\n",
       "      <th></th>\n",
       "      <th></th>\n",
       "      <th></th>\n",
       "      <th></th>\n",
       "      <th></th>\n",
       "      <th></th>\n",
       "      <th></th>\n",
       "      <th></th>\n",
       "      <th></th>\n",
       "      <th></th>\n",
       "      <th></th>\n",
       "      <th></th>\n",
       "      <th></th>\n",
       "    </tr>\n",
       "  </thead>\n",
       "  <tbody>\n",
       "    <tr>\n",
       "      <th rowspan=\"2\" valign=\"top\">0</th>\n",
       "      <th>0</th>\n",
       "      <td>0.060592</td>\n",
       "      <td>0.004396</td>\n",
       "      <td>0.163676</td>\n",
       "      <td>0.105976</td>\n",
       "      <td>0.437814</td>\n",
       "      <td>0.009562</td>\n",
       "      <td>0.217985</td>\n",
       "      <td>sad</td>\n",
       "      <td>52.578339</td>\n",
       "      <td>-22.856438</td>\n",
       "      <td>-9.353592</td>\n",
       "      <td>1.0</td>\n",
       "      <td>500</td>\n",
       "      <td>57</td>\n",
       "      <td>545</td>\n",
       "      <td>127</td>\n",
       "      <td>0</td>\n",
       "      <td>1.0</td>\n",
       "    </tr>\n",
       "    <tr>\n",
       "      <th>1</th>\n",
       "      <td>0.129491</td>\n",
       "      <td>0.001115</td>\n",
       "      <td>0.046344</td>\n",
       "      <td>0.027393</td>\n",
       "      <td>0.084997</td>\n",
       "      <td>0.010530</td>\n",
       "      <td>0.700128</td>\n",
       "      <td>neutral</td>\n",
       "      <td>-74.909027</td>\n",
       "      <td>-2.250671</td>\n",
       "      <td>-3.394562</td>\n",
       "      <td>0.0</td>\n",
       "      <td>349</td>\n",
       "      <td>100</td>\n",
       "      <td>395</td>\n",
       "      <td>168</td>\n",
       "      <td>1</td>\n",
       "      <td>0.0</td>\n",
       "    </tr>\n",
       "    <tr>\n",
       "      <th rowspan=\"2\" valign=\"top\">1</th>\n",
       "      <th>0</th>\n",
       "      <td>0.035801</td>\n",
       "      <td>0.003362</td>\n",
       "      <td>0.154518</td>\n",
       "      <td>0.099085</td>\n",
       "      <td>0.434491</td>\n",
       "      <td>0.009204</td>\n",
       "      <td>0.263538</td>\n",
       "      <td>sad</td>\n",
       "      <td>52.877441</td>\n",
       "      <td>-24.682152</td>\n",
       "      <td>-11.488426</td>\n",
       "      <td>1.0</td>\n",
       "      <td>498</td>\n",
       "      <td>55</td>\n",
       "      <td>543</td>\n",
       "      <td>125</td>\n",
       "      <td>0</td>\n",
       "      <td>1.0</td>\n",
       "    </tr>\n",
       "    <tr>\n",
       "      <th>1</th>\n",
       "      <td>0.150720</td>\n",
       "      <td>0.001939</td>\n",
       "      <td>0.047514</td>\n",
       "      <td>0.060440</td>\n",
       "      <td>0.087675</td>\n",
       "      <td>0.011068</td>\n",
       "      <td>0.640644</td>\n",
       "      <td>neutral</td>\n",
       "      <td>-66.944817</td>\n",
       "      <td>-6.109840</td>\n",
       "      <td>-3.190430</td>\n",
       "      <td>0.0</td>\n",
       "      <td>352</td>\n",
       "      <td>101</td>\n",
       "      <td>395</td>\n",
       "      <td>168</td>\n",
       "      <td>1</td>\n",
       "      <td>0.0</td>\n",
       "    </tr>\n",
       "    <tr>\n",
       "      <th>2</th>\n",
       "      <th>0</th>\n",
       "      <td>0.029630</td>\n",
       "      <td>0.005719</td>\n",
       "      <td>0.143816</td>\n",
       "      <td>0.153038</td>\n",
       "      <td>0.269821</td>\n",
       "      <td>0.009704</td>\n",
       "      <td>0.388271</td>\n",
       "      <td>neutral</td>\n",
       "      <td>56.523651</td>\n",
       "      <td>-31.214188</td>\n",
       "      <td>-16.066132</td>\n",
       "      <td>1.0</td>\n",
       "      <td>497</td>\n",
       "      <td>54</td>\n",
       "      <td>541</td>\n",
       "      <td>124</td>\n",
       "      <td>0</td>\n",
       "      <td>1.0</td>\n",
       "    </tr>\n",
       "  </tbody>\n",
       "</table>\n",
       "</div>"
      ],
      "text/plain": [
       "                angry   disgust    scared     happy       sad  surprised  \\\n",
       "Frame Index                                                                \n",
       "0     0      0.060592  0.004396  0.163676  0.105976  0.437814   0.009562   \n",
       "      1      0.129491  0.001115  0.046344  0.027393  0.084997   0.010530   \n",
       "1     0      0.035801  0.003362  0.154518  0.099085  0.434491   0.009204   \n",
       "      1      0.150720  0.001939  0.047514  0.060440  0.087675   0.011068   \n",
       "2     0      0.029630  0.005719  0.143816  0.153038  0.269821   0.009704   \n",
       "\n",
       "              neutral max_emotion        yaw      pitch       roll  \\\n",
       "Frame Index                                                          \n",
       "0     0      0.217985         sad  52.578339 -22.856438  -9.353592   \n",
       "      1      0.700128     neutral -74.909027  -2.250671  -3.394562   \n",
       "1     0      0.263538         sad  52.877441 -24.682152 -11.488426   \n",
       "      1      0.640644     neutral -66.944817  -6.109840  -3.190430   \n",
       "2     0      0.388271     neutral  56.523651 -31.214188 -16.066132   \n",
       "\n",
       "             Mira A (Index)  bb_x_min  bb_y_min  bb_x_max  bb_y_max  ID  \\\n",
       "Frame Index                                                               \n",
       "0     0                 1.0       500        57       545       127   0   \n",
       "      1                 0.0       349       100       395       168   1   \n",
       "1     0                 1.0       498        55       543       125   0   \n",
       "      1                 0.0       352       101       395       168   1   \n",
       "2     0                 1.0       497        54       541       124   0   \n",
       "\n",
       "             Mira A (ID)  \n",
       "Frame Index               \n",
       "0     0              1.0  \n",
       "      1              0.0  \n",
       "1     0              1.0  \n",
       "      1              0.0  \n",
       "2     0              1.0  "
      ]
     },
     "execution_count": 45,
     "metadata": {},
     "output_type": "execute_result"
    }
   ],
   "source": [
    "df = pd.read_csv('../Personas/datos_personas.csv', index_col=['Frame', 'Index'])\n",
    "df.head()"
   ]
  },
  {
   "cell_type": "markdown",
   "metadata": {},
   "source": [
    "## ¿Cómo se sienten los que miran a Persona 1?"
   ]
  },
  {
   "cell_type": "code",
   "execution_count": 46,
   "metadata": {
    "scrolled": true
   },
   "outputs": [
    {
     "data": {
      "text/plain": [
       "neutral    99\n",
       "sad        12\n",
       "scared      4\n",
       "angry       4\n",
       "happy       2\n",
       "Name: max_emotion, dtype: int64"
      ]
     },
     "execution_count": 46,
     "metadata": {},
     "output_type": "execute_result"
    }
   ],
   "source": [
    "df.loc[df['Mira A (ID)'] == 1, 'max_emotion'].value_counts()"
   ]
  },
  {
   "cell_type": "code",
   "execution_count": null,
   "metadata": {},
   "outputs": [],
   "source": []
  },
  {
   "cell_type": "markdown",
   "metadata": {},
   "source": [
    "## ¿A quién miran más cuando están alegres?"
   ]
  },
  {
   "cell_type": "code",
   "execution_count": 47,
   "metadata": {},
   "outputs": [
    {
     "data": {
      "text/plain": [
       "2.0     22\n",
       "4.0     14\n",
       "5.0     14\n",
       "3.0     13\n",
       "0.0      8\n",
       "10.0     5\n",
       "19.0     2\n",
       "1.0      2\n",
       "18.0     1\n",
       "Name: Mira A (ID), dtype: int64"
      ]
     },
     "execution_count": 47,
     "metadata": {},
     "output_type": "execute_result"
    }
   ],
   "source": [
    "df.loc[df.max_emotion == 'happy', 'Mira A (ID)'].value_counts()"
   ]
  },
  {
   "cell_type": "markdown",
   "metadata": {},
   "source": [
    "## ¿A quién miran más cuando están tristes?"
   ]
  },
  {
   "cell_type": "code",
   "execution_count": 48,
   "metadata": {
    "scrolled": true
   },
   "outputs": [
    {
     "data": {
      "text/plain": [
       "1.0     12\n",
       "3.0      9\n",
       "2.0      8\n",
       "4.0      7\n",
       "0.0      7\n",
       "10.0     1\n",
       "17.0     1\n",
       "Name: Mira A (ID), dtype: int64"
      ]
     },
     "execution_count": 48,
     "metadata": {},
     "output_type": "execute_result"
    }
   ],
   "source": [
    "df.loc[df.max_emotion == 'sad', 'Mira A (ID)'].value_counts()"
   ]
  },
  {
   "cell_type": "markdown",
   "metadata": {},
   "source": [
    "## ¿A quién mira más Persona 1?"
   ]
  },
  {
   "cell_type": "code",
   "execution_count": 49,
   "metadata": {},
   "outputs": [
    {
     "data": {
      "text/plain": [
       "2.0     39\n",
       "0.0     31\n",
       "5.0     23\n",
       "17.0     4\n",
       "18.0     4\n",
       "4.0      2\n",
       "16.0     1\n",
       "Name: Mira A (ID), dtype: int64"
      ]
     },
     "execution_count": 49,
     "metadata": {},
     "output_type": "execute_result"
    }
   ],
   "source": [
    "df.loc[df.ID == 1, 'Mira A (ID)'].value_counts()"
   ]
  },
  {
   "cell_type": "markdown",
   "metadata": {},
   "source": [
    "## Quien es el id mas comun"
   ]
  },
  {
   "cell_type": "code",
   "execution_count": 53,
   "metadata": {},
   "outputs": [
    {
     "data": {
      "text/plain": [
       "0     1657\n",
       "4     1096\n",
       "2      980\n",
       "3      634\n",
       "5      507\n",
       "10     483\n",
       "1      393\n",
       "17     353\n",
       "16     241\n",
       "14     176\n",
       "6      146\n",
       "9      139\n",
       "13     119\n",
       "15      79\n",
       "12      54\n",
       "11      37\n",
       "18      26\n",
       "20      25\n",
       "19      16\n",
       "21       5\n",
       "7        2\n",
       "8        1\n",
       "Name: ID, dtype: int64"
      ]
     },
     "execution_count": 53,
     "metadata": {},
     "output_type": "execute_result"
    }
   ],
   "source": [
    "df.ID.value_counts()"
   ]
  },
  {
   "cell_type": "code",
   "execution_count": 55,
   "metadata": {},
   "outputs": [
    {
     "data": {
      "text/plain": [
       "1657"
      ]
     },
     "execution_count": 55,
     "metadata": {},
     "output_type": "execute_result"
    }
   ],
   "source": [
    "(df.ID == 0).sum()"
   ]
  },
  {
   "cell_type": "markdown",
   "metadata": {},
   "source": [
    "# Analisis de datos - Indentidades conocidas"
   ]
  },
  {
   "cell_type": "code",
   "execution_count": 59,
   "metadata": {},
   "outputs": [
    {
     "data": {
      "text/html": [
       "<div>\n",
       "<style scoped>\n",
       "    .dataframe tbody tr th:only-of-type {\n",
       "        vertical-align: middle;\n",
       "    }\n",
       "\n",
       "    .dataframe tbody tr th {\n",
       "        vertical-align: top;\n",
       "    }\n",
       "\n",
       "    .dataframe thead th {\n",
       "        text-align: right;\n",
       "    }\n",
       "</style>\n",
       "<table border=\"1\" class=\"dataframe\">\n",
       "  <thead>\n",
       "    <tr style=\"text-align: right;\">\n",
       "      <th></th>\n",
       "      <th></th>\n",
       "      <th>angry</th>\n",
       "      <th>disgust</th>\n",
       "      <th>scared</th>\n",
       "      <th>happy</th>\n",
       "      <th>sad</th>\n",
       "      <th>surprised</th>\n",
       "      <th>neutral</th>\n",
       "      <th>max_emotion</th>\n",
       "      <th>yaw</th>\n",
       "      <th>pitch</th>\n",
       "      <th>roll</th>\n",
       "      <th>Mira A (Index)</th>\n",
       "      <th>bb_x_min</th>\n",
       "      <th>bb_y_min</th>\n",
       "      <th>bb_x_max</th>\n",
       "      <th>bb_y_max</th>\n",
       "      <th>ID</th>\n",
       "      <th>Mira A (ID)</th>\n",
       "    </tr>\n",
       "    <tr>\n",
       "      <th>Frame</th>\n",
       "      <th>Index</th>\n",
       "      <th></th>\n",
       "      <th></th>\n",
       "      <th></th>\n",
       "      <th></th>\n",
       "      <th></th>\n",
       "      <th></th>\n",
       "      <th></th>\n",
       "      <th></th>\n",
       "      <th></th>\n",
       "      <th></th>\n",
       "      <th></th>\n",
       "      <th></th>\n",
       "      <th></th>\n",
       "      <th></th>\n",
       "      <th></th>\n",
       "      <th></th>\n",
       "      <th></th>\n",
       "      <th></th>\n",
       "    </tr>\n",
       "  </thead>\n",
       "  <tbody>\n",
       "    <tr>\n",
       "      <th rowspan=\"2\" valign=\"top\">0</th>\n",
       "      <th>0</th>\n",
       "      <td>0.060592</td>\n",
       "      <td>0.004396</td>\n",
       "      <td>0.163676</td>\n",
       "      <td>0.105976</td>\n",
       "      <td>0.437814</td>\n",
       "      <td>0.009562</td>\n",
       "      <td>0.217985</td>\n",
       "      <td>sad</td>\n",
       "      <td>52.578339</td>\n",
       "      <td>-22.856438</td>\n",
       "      <td>-9.353592</td>\n",
       "      <td>1.0</td>\n",
       "      <td>500</td>\n",
       "      <td>57</td>\n",
       "      <td>545</td>\n",
       "      <td>127</td>\n",
       "      <td>Ross</td>\n",
       "      <td>6</td>\n",
       "    </tr>\n",
       "    <tr>\n",
       "      <th>1</th>\n",
       "      <td>0.129491</td>\n",
       "      <td>0.001115</td>\n",
       "      <td>0.046344</td>\n",
       "      <td>0.027393</td>\n",
       "      <td>0.084997</td>\n",
       "      <td>0.010530</td>\n",
       "      <td>0.700128</td>\n",
       "      <td>neutral</td>\n",
       "      <td>-74.909027</td>\n",
       "      <td>-2.250671</td>\n",
       "      <td>-3.394562</td>\n",
       "      <td>0.0</td>\n",
       "      <td>349</td>\n",
       "      <td>100</td>\n",
       "      <td>395</td>\n",
       "      <td>168</td>\n",
       "      <td>6</td>\n",
       "      <td>Ross</td>\n",
       "    </tr>\n",
       "    <tr>\n",
       "      <th rowspan=\"2\" valign=\"top\">1</th>\n",
       "      <th>0</th>\n",
       "      <td>0.035801</td>\n",
       "      <td>0.003362</td>\n",
       "      <td>0.154518</td>\n",
       "      <td>0.099085</td>\n",
       "      <td>0.434491</td>\n",
       "      <td>0.009204</td>\n",
       "      <td>0.263538</td>\n",
       "      <td>sad</td>\n",
       "      <td>52.877441</td>\n",
       "      <td>-24.682152</td>\n",
       "      <td>-11.488426</td>\n",
       "      <td>1.0</td>\n",
       "      <td>498</td>\n",
       "      <td>55</td>\n",
       "      <td>543</td>\n",
       "      <td>125</td>\n",
       "      <td>Ross</td>\n",
       "      <td>7</td>\n",
       "    </tr>\n",
       "    <tr>\n",
       "      <th>1</th>\n",
       "      <td>0.150720</td>\n",
       "      <td>0.001939</td>\n",
       "      <td>0.047514</td>\n",
       "      <td>0.060440</td>\n",
       "      <td>0.087675</td>\n",
       "      <td>0.011068</td>\n",
       "      <td>0.640644</td>\n",
       "      <td>neutral</td>\n",
       "      <td>-66.944817</td>\n",
       "      <td>-6.109840</td>\n",
       "      <td>-3.190430</td>\n",
       "      <td>0.0</td>\n",
       "      <td>352</td>\n",
       "      <td>101</td>\n",
       "      <td>395</td>\n",
       "      <td>168</td>\n",
       "      <td>7</td>\n",
       "      <td>Ross</td>\n",
       "    </tr>\n",
       "    <tr>\n",
       "      <th>2</th>\n",
       "      <th>0</th>\n",
       "      <td>0.029630</td>\n",
       "      <td>0.005719</td>\n",
       "      <td>0.143816</td>\n",
       "      <td>0.153038</td>\n",
       "      <td>0.269821</td>\n",
       "      <td>0.009704</td>\n",
       "      <td>0.388271</td>\n",
       "      <td>neutral</td>\n",
       "      <td>56.523651</td>\n",
       "      <td>-31.214188</td>\n",
       "      <td>-16.066132</td>\n",
       "      <td>1.0</td>\n",
       "      <td>497</td>\n",
       "      <td>54</td>\n",
       "      <td>541</td>\n",
       "      <td>124</td>\n",
       "      <td>Ross</td>\n",
       "      <td>8</td>\n",
       "    </tr>\n",
       "  </tbody>\n",
       "</table>\n",
       "</div>"
      ],
      "text/plain": [
       "                angry   disgust    scared     happy       sad  surprised  \\\n",
       "Frame Index                                                                \n",
       "0     0      0.060592  0.004396  0.163676  0.105976  0.437814   0.009562   \n",
       "      1      0.129491  0.001115  0.046344  0.027393  0.084997   0.010530   \n",
       "1     0      0.035801  0.003362  0.154518  0.099085  0.434491   0.009204   \n",
       "      1      0.150720  0.001939  0.047514  0.060440  0.087675   0.011068   \n",
       "2     0      0.029630  0.005719  0.143816  0.153038  0.269821   0.009704   \n",
       "\n",
       "              neutral max_emotion        yaw      pitch       roll  \\\n",
       "Frame Index                                                          \n",
       "0     0      0.217985         sad  52.578339 -22.856438  -9.353592   \n",
       "      1      0.700128     neutral -74.909027  -2.250671  -3.394562   \n",
       "1     0      0.263538         sad  52.877441 -24.682152 -11.488426   \n",
       "      1      0.640644     neutral -66.944817  -6.109840  -3.190430   \n",
       "2     0      0.388271     neutral  56.523651 -31.214188 -16.066132   \n",
       "\n",
       "             Mira A (Index)  bb_x_min  bb_y_min  bb_x_max  bb_y_max    ID  \\\n",
       "Frame Index                                                                 \n",
       "0     0                 1.0       500        57       545       127  Ross   \n",
       "      1                 0.0       349       100       395       168     6   \n",
       "1     0                 1.0       498        55       543       125  Ross   \n",
       "      1                 0.0       352       101       395       168     7   \n",
       "2     0                 1.0       497        54       541       124  Ross   \n",
       "\n",
       "            Mira A (ID)  \n",
       "Frame Index              \n",
       "0     0               6  \n",
       "      1            Ross  \n",
       "1     0               7  \n",
       "      1            Ross  \n",
       "2     0               8  "
      ]
     },
     "execution_count": 59,
     "metadata": {},
     "output_type": "execute_result"
    }
   ],
   "source": [
    "df_known = pd.read_csv('../Personas/datos_personas_conocidas.csv', index_col=['Frame', 'Index'])\n",
    "df_known.head()"
   ]
  },
  {
   "cell_type": "markdown",
   "metadata": {},
   "source": [
    "## ¿Cómo se sienten los que miran a Chandler?"
   ]
  },
  {
   "cell_type": "code",
   "execution_count": 60,
   "metadata": {
    "scrolled": true
   },
   "outputs": [
    {
     "data": {
      "text/plain": [
       "neutral    462\n",
       "scared      34\n",
       "happy       29\n",
       "sad         14\n",
       "angry        5\n",
       "Name: max_emotion, dtype: int64"
      ]
     },
     "execution_count": 60,
     "metadata": {},
     "output_type": "execute_result"
    }
   ],
   "source": [
    "df_known.loc[df_known['Mira A (ID)'] == 'Chandler', 'max_emotion'].value_counts()"
   ]
  },
  {
   "cell_type": "markdown",
   "metadata": {},
   "source": [
    "## ¿Cómo se sienten los que miran a Ross?"
   ]
  },
  {
   "cell_type": "code",
   "execution_count": 61,
   "metadata": {
    "scrolled": true
   },
   "outputs": [
    {
     "data": {
      "text/plain": [
       "neutral    337\n",
       "scared      24\n",
       "happy        9\n",
       "sad          7\n",
       "angry        4\n",
       "Name: max_emotion, dtype: int64"
      ]
     },
     "execution_count": 61,
     "metadata": {},
     "output_type": "execute_result"
    }
   ],
   "source": [
    "df_known.loc[df_known['Mira A (ID)'] == 'Ross', 'max_emotion'].value_counts()"
   ]
  },
  {
   "cell_type": "code",
   "execution_count": null,
   "metadata": {},
   "outputs": [],
   "source": []
  },
  {
   "cell_type": "markdown",
   "metadata": {},
   "source": [
    "## ¿A quién miran más cuando están alegres?"
   ]
  },
  {
   "cell_type": "code",
   "execution_count": 62,
   "metadata": {},
   "outputs": [
    {
     "data": {
      "text/plain": [
       "Chandler    29\n",
       "Joey        14\n",
       "Phoebe      12\n",
       "Monica      10\n",
       "Ross         9\n",
       "Rachel       3\n",
       "249          1\n",
       "247          1\n",
       "9            1\n",
       "319          1\n",
       "Name: Mira A (ID), dtype: int64"
      ]
     },
     "execution_count": 62,
     "metadata": {},
     "output_type": "execute_result"
    }
   ],
   "source": [
    "df_known.loc[df_known.max_emotion == 'happy', 'Mira A (ID)'].value_counts()"
   ]
  },
  {
   "cell_type": "markdown",
   "metadata": {},
   "source": [
    "## ¿Quién es mas alegre?"
   ]
  },
  {
   "cell_type": "code",
   "execution_count": 63,
   "metadata": {},
   "outputs": [
    {
     "data": {
      "text/plain": [
       "Ross        155\n",
       "Phoebe      141\n",
       "Rachel       65\n",
       "Chandler     58\n",
       "Joey         49\n",
       "Monica       45\n",
       "316           1\n",
       "328           1\n",
       "148           1\n",
       "141           1\n",
       "120           1\n",
       "296           1\n",
       "27            1\n",
       "106           1\n",
       "29            1\n",
       "113           1\n",
       "34            1\n",
       "161           1\n",
       "30            1\n",
       "317           1\n",
       "319           1\n",
       "130           1\n",
       "252           1\n",
       "38            1\n",
       "107           1\n",
       "181           1\n",
       "327           1\n",
       "31            1\n",
       "397           1\n",
       "295           1\n",
       "308           1\n",
       "152           1\n",
       "398           1\n",
       "179           1\n",
       "26            1\n",
       "28            1\n",
       "24            1\n",
       "297           1\n",
       "306           1\n",
       "101           1\n",
       "298           1\n",
       "25            1\n",
       "121           1\n",
       "23            1\n",
       "36            1\n",
       "238           1\n",
       "32            1\n",
       "Name: ID, dtype: int64"
      ]
     },
     "execution_count": 63,
     "metadata": {},
     "output_type": "execute_result"
    }
   ],
   "source": [
    "df_known.loc[df_known.max_emotion == 'happy', 'ID'].value_counts()"
   ]
  },
  {
   "cell_type": "code",
   "execution_count": null,
   "metadata": {},
   "outputs": [],
   "source": []
  },
  {
   "cell_type": "markdown",
   "metadata": {},
   "source": [
    "## ¿A quién miran más cuando están tristes?"
   ]
  },
  {
   "cell_type": "code",
   "execution_count": 64,
   "metadata": {
    "scrolled": true
   },
   "outputs": [
    {
     "data": {
      "text/plain": [
       "Chandler    14\n",
       "Phoebe       7\n",
       "Ross         7\n",
       "Joey         4\n",
       "23           1\n",
       "7            1\n",
       "6            1\n",
       "15           1\n",
       "12           1\n",
       "19           1\n",
       "Rachel       1\n",
       "17           1\n",
       "10           1\n",
       "11           1\n",
       "Monica       1\n",
       "16           1\n",
       "14           1\n",
       "Name: Mira A (ID), dtype: int64"
      ]
     },
     "execution_count": 64,
     "metadata": {},
     "output_type": "execute_result"
    }
   ],
   "source": [
    "df_known.loc[df_known.max_emotion == 'sad', 'Mira A (ID)'].value_counts()"
   ]
  },
  {
   "cell_type": "markdown",
   "metadata": {},
   "source": [
    "## ¿A quién mira más Ross?"
   ]
  },
  {
   "cell_type": "code",
   "execution_count": 43,
   "metadata": {},
   "outputs": [
    {
     "data": {
      "text/plain": [
       "Chandler    266\n",
       "Joey        139\n",
       "Phoebe       74\n",
       "Monica       58\n",
       "Rachel       25\n",
       "292           1\n",
       "10            1\n",
       "29            1\n",
       "19            1\n",
       "14            1\n",
       "22            1\n",
       "16            1\n",
       "25            1\n",
       "13            1\n",
       "26            1\n",
       "18            1\n",
       "11            1\n",
       "9             1\n",
       "23            1\n",
       "21            1\n",
       "31            1\n",
       "293           1\n",
       "8             1\n",
       "32            1\n",
       "30            1\n",
       "17            1\n",
       "20            1\n",
       "7             1\n",
       "12            1\n",
       "24            1\n",
       "28            1\n",
       "27            1\n",
       "6             1\n",
       "15            1\n",
       "Name: Mira A (ID), dtype: int64"
      ]
     },
     "execution_count": 43,
     "metadata": {},
     "output_type": "execute_result"
    }
   ],
   "source": [
    "df_known.loc[df.ID == 'Ross', 'Mira A (ID)'].value_counts()"
   ]
  },
  {
   "cell_type": "code",
   "execution_count": null,
   "metadata": {},
   "outputs": [],
   "source": []
  },
  {
   "cell_type": "markdown",
   "metadata": {},
   "source": [
    "# Coincidencia"
   ]
  },
  {
   "cell_type": "code",
   "execution_count": 74,
   "metadata": {},
   "outputs": [
    {
     "data": {
      "text/plain": [
       "1586"
      ]
     },
     "execution_count": 74,
     "metadata": {},
     "output_type": "execute_result"
    }
   ],
   "source": [
    "ross_equal_p0 = ((df_known.ID == 'Ross') & (df.ID == 0 ))\n",
    "ross_equal_p0.sum()"
   ]
  },
  {
   "cell_type": "code",
   "execution_count": 75,
   "metadata": {},
   "outputs": [
    {
     "data": {
      "text/plain": [
       "1894"
      ]
     },
     "execution_count": 75,
     "metadata": {},
     "output_type": "execute_result"
    }
   ],
   "source": [
    "ross_or_p0 = ((df_known.ID == 'Ross') | (df.ID == 0 ))\n",
    "ross_or_p0.sum()"
   ]
  },
  {
   "cell_type": "code",
   "execution_count": 77,
   "metadata": {},
   "outputs": [
    {
     "data": {
      "text/plain": [
       "83.73812038014783"
      ]
     },
     "execution_count": 77,
     "metadata": {},
     "output_type": "execute_result"
    }
   ],
   "source": [
    "ross_equal_p0.sum() / ross_or_p0.sum() * 100"
   ]
  },
  {
   "cell_type": "code",
   "execution_count": null,
   "metadata": {},
   "outputs": [],
   "source": []
  },
  {
   "cell_type": "code",
   "execution_count": 78,
   "metadata": {},
   "outputs": [],
   "source": [
    "df.loc[:, 'ID known'] = df_known.ID"
   ]
  },
  {
   "cell_type": "code",
   "execution_count": 84,
   "metadata": {},
   "outputs": [
    {
     "data": {
      "text/plain": [
       "ID  ID known\n",
       "0   104            1\n",
       "    112            1\n",
       "    118            1\n",
       "    125            1\n",
       "    135            1\n",
       "    147            1\n",
       "    160            1\n",
       "    167            1\n",
       "    177            1\n",
       "    188            1\n",
       "    194            1\n",
       "    204            1\n",
       "    212            1\n",
       "    221            1\n",
       "    238            1\n",
       "    266            1\n",
       "    267            1\n",
       "    270            1\n",
       "    392            1\n",
       "    393            1\n",
       "    396            1\n",
       "    Joey          41\n",
       "    Phoebe         4\n",
       "    Rachel         5\n",
       "    Ross        1586\n",
       "1   10             1\n",
       "    11             1\n",
       "    12             1\n",
       "    13             1\n",
       "    14             1\n",
       "                ... \n",
       "19  240            1\n",
       "    241            1\n",
       "    242            1\n",
       "    243            1\n",
       "    244            1\n",
       "    245            1\n",
       "    246            1\n",
       "    247            1\n",
       "    248            1\n",
       "    249            1\n",
       "    250            1\n",
       "    251            1\n",
       "    252            1\n",
       "    Ross           2\n",
       "20  336            1\n",
       "    337            1\n",
       "    338            1\n",
       "    339            1\n",
       "    340            1\n",
       "    341            1\n",
       "    342            1\n",
       "    343            1\n",
       "    344            1\n",
       "    345            1\n",
       "    346            1\n",
       "    347            1\n",
       "    348            1\n",
       "    Monica        12\n",
       "21  400            1\n",
       "    Monica         4\n",
       "Name: angry, Length: 459, dtype: int64"
      ]
     },
     "execution_count": 84,
     "metadata": {},
     "output_type": "execute_result"
    }
   ],
   "source": [
    "df.groupby(['ID', 'ID known']).angry.count()"
   ]
  },
  {
   "cell_type": "code",
   "execution_count": 91,
   "metadata": {},
   "outputs": [
    {
     "data": {
      "text/plain": [
       "ID  ID known\n",
       "0   Ross        1586\n",
       "4   Phoebe       848\n",
       "2   Chandler     653\n",
       "3   Monica       360\n",
       "2   Joey         327\n",
       "10  Monica       324\n",
       "1   Rachel       269\n",
       "4   Chandler     245\n",
       "5   Joey         230\n",
       "16  Joey         219\n",
       "3   Joey         182\n",
       "17  Joey         156\n",
       "10  Rachel       146\n",
       "14  Rachel       124\n",
       "3   Chandler      91\n",
       "17  Rachel        88\n",
       "5   Rachel        86\n",
       "    Monica        85\n",
       "9   Ross          70\n",
       "17  Ross          64\n",
       "5   Chandler      58\n",
       "13  Rachel        49\n",
       "0   Joey          41\n",
       "6   Monica        39\n",
       "13  Joey          38\n",
       "9   Rachel        36\n",
       "1   Ross          33\n",
       "12  Chandler      32\n",
       "14  Ross          28\n",
       "5   Ross          27\n",
       "                ... \n",
       "15  151            1\n",
       "    171            1\n",
       "    180            1\n",
       "13  361            1\n",
       "    330            1\n",
       "    327            1\n",
       "12  200            1\n",
       "    109            1\n",
       "    115            1\n",
       "    123            1\n",
       "    131            1\n",
       "    144            1\n",
       "    155            1\n",
       "    164            1\n",
       "    173            1\n",
       "    186            1\n",
       "    190            1\n",
       "    205            1\n",
       "13  325            1\n",
       "12  214            1\n",
       "    222            1\n",
       "    230            1\n",
       "    389            1\n",
       "    390            1\n",
       "13  306            1\n",
       "    308            1\n",
       "    310            1\n",
       "    312            1\n",
       "    316            1\n",
       "0   104            1\n",
       "Name: angry, Length: 459, dtype: int64"
      ]
     },
     "execution_count": 91,
     "metadata": {},
     "output_type": "execute_result"
    }
   ],
   "source": [
    "df.groupby(['ID', 'ID known']).angry.count().sort_values(ascending=False)"
   ]
  },
  {
   "cell_type": "code",
   "execution_count": null,
   "metadata": {},
   "outputs": [],
   "source": []
  }
 ],
 "metadata": {
  "kernelspec": {
   "display_name": "Python 3",
   "language": "python",
   "name": "python3"
  },
  "language_info": {
   "codemirror_mode": {
    "name": "ipython",
    "version": 3
   },
   "file_extension": ".py",
   "mimetype": "text/x-python",
   "name": "python",
   "nbconvert_exporter": "python",
   "pygments_lexer": "ipython3",
   "version": "3.6.6"
  },
  "latex_envs": {
   "LaTeX_envs_menu_present": true,
   "autoclose": false,
   "autocomplete": true,
   "bibliofile": "biblio.bib",
   "cite_by": "apalike",
   "current_citInitial": 1,
   "eqLabelWithNumbers": true,
   "eqNumInitial": 1,
   "hotkeys": {
    "equation": "Ctrl-E",
    "itemize": "Ctrl-I"
   },
   "labels_anchors": false,
   "latex_user_defs": false,
   "report_style_numbering": false,
   "user_envs_cfg": false
  },
  "toc": {
   "base_numbering": 1,
   "nav_menu": {},
   "number_sections": true,
   "sideBar": true,
   "skip_h1_title": false,
   "title_cell": "Table of Contents",
   "title_sidebar": "Contents",
   "toc_cell": false,
   "toc_position": {},
   "toc_section_display": true,
   "toc_window_display": false
  }
 },
 "nbformat": 4,
 "nbformat_minor": 2
}
