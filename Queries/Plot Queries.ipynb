{
 "cells": [
  {
   "cell_type": "code",
   "execution_count": 131,
   "metadata": {},
   "outputs": [],
   "source": [
    "import numpy as np\n",
    "import pandas as pd\n",
    "import os\n",
    "import cv2\n",
    "from pose import utils\n",
    "from tqdm.auto import tqdm\n",
    "import matplotlib.pyplot as plt\n",
    "%matplotlib inline"
   ]
  },
  {
   "cell_type": "code",
   "execution_count": 132,
   "metadata": {},
   "outputs": [
    {
     "name": "stdout",
     "output_type": "stream",
     "text": [
      "Loading images...\n",
      "Images loaded success.\n"
     ]
    }
   ],
   "source": [
    "file_id = '../Videos/friends_hd.npy'\n",
    "print('Loading images...')\n",
    "images = np.load(''+file_id)\n",
    "print('Images loaded success.')"
   ]
  },
  {
   "cell_type": "markdown",
   "metadata": {},
   "source": [
    "# Guardar queries como video"
   ]
  },
  {
   "cell_type": "code",
   "execution_count": 133,
   "metadata": {},
   "outputs": [],
   "source": [
    "def save_video(indeces, path, df, conocidos=False):\n",
    "    # Define the codec and create VideoWriter object.The output is stored in 'outpy.avi' file.\n",
    "    # Define the fps to be equal to 10. Also frame size is passed.\n",
    "\n",
    "    try:\n",
    "        out = cv2.VideoWriter(path, cv2.VideoWriter_fourcc('M','J','P','G'), 10, (images.shape[2],images.shape[1]))\n",
    "        \n",
    "        frames_to_write = {}\n",
    "        \n",
    "        print(\"#### PROCESSING ####\")\n",
    "        for frame_id in tqdm(indeces):\n",
    "            \n",
    "            try:\n",
    "                frame = df.loc[frame_id]\n",
    "            except KeyError:\n",
    "                continue\n",
    "            \n",
    "            try:\n",
    "                frame_int = int(frame_id)\n",
    "                to_visit = frame.iterrows()\n",
    "                \n",
    "            except TypeError:\n",
    "                frame_int = int(frame_id[0])\n",
    "                to_visit = [(frame_id, frame)]\n",
    "\n",
    "            if frame_int not in frames_to_write:\n",
    "                frames_to_write[frame_int] = images[frame_int,:,:,:].copy()\n",
    "                img = frames_to_write[frame_int]\n",
    "            else:\n",
    "                img = frames_to_write[frame_int]\n",
    "                \n",
    "            for i, row in to_visit:\n",
    "\n",
    "                try:\n",
    "                    looking_at_someone = not np.isnan(row['Mira A (ID)'])\n",
    "                except TypeError:\n",
    "                    looking_at_someone = True\n",
    "                \n",
    "                if looking_at_someone:\n",
    "                    looking_back = df.loc[(frame_int,  row['Mira A (Index)']), 'Mira A (ID)'] == row.ID\n",
    "                else:\n",
    "                    looking_back = False\n",
    "\n",
    "                if looking_at_someone and looking_back:\n",
    "                    cv2.rectangle(img, \n",
    "                                  (row.bb_x_min, row.bb_y_min), \n",
    "                                  (row.bb_x_max, row.bb_y_max),\n",
    "                                  (0,255,0),thickness=1)\n",
    "\n",
    "                elif looking_at_someone :\n",
    "                    cv2.rectangle(img, \n",
    "                                  (row.bb_x_min, row.bb_y_min), \n",
    "                                  (row.bb_x_max, row.bb_y_max),\n",
    "                                  (0,255,255),thickness=1)\n",
    "                else:\n",
    "                    cv2.rectangle(img, \n",
    "                                  (row.bb_x_min, row.bb_y_min), \n",
    "                                  (row.bb_x_max, row.bb_y_max),\n",
    "                                  (0,0,255),\n",
    "                                  thickness=1)\n",
    "                if conocidos:\n",
    "                    nombre = row.ID\n",
    "                else:\n",
    "                    nombre = 'P' + row.ID\n",
    "                cv2.putText(img, \n",
    "                            text=nombre, \n",
    "                            org=(row.bb_x_min,row.bb_y_min), \n",
    "                            fontFace=cv2.FONT_HERSHEY_SIMPLEX, \n",
    "                            fontScale=0.5, \n",
    "                            thickness=1, \n",
    "                            lineType=cv2.LINE_AA, \n",
    "                            color=(255, 255, 255))\n",
    "\n",
    "                cv2.putText(img, \n",
    "                            text=row.max_emotion, \n",
    "                            org=(row.bb_x_min,row.bb_y_max + 10), \n",
    "                            fontFace=cv2.FONT_HERSHEY_SIMPLEX, \n",
    "                            fontScale=0.5, \n",
    "                            thickness=1, \n",
    "                            lineType=cv2.LINE_AA, \n",
    "                            color=(255, 255, 255))\n",
    "\n",
    "                # Plot headpose\n",
    "                [yaw, pitch, roll] = (row.yaw, row.pitch, row.roll)\n",
    "                x_min, y_min, x_max, y_max = [row.bb_x_min, row.bb_y_min, row.bb_x_max, row.bb_y_max]\n",
    "                box_height = abs(y_max - y_min)\n",
    "                utils.draw_axis(img, yaw, pitch, roll, tdx = (x_min + x_max) / 2, tdy= (y_min + y_max) / 2, size = box_height/2)\n",
    "        \n",
    "        print(\"#### SAVING ####\")\n",
    "        for f in tqdm(sorted(frames_to_write.keys())):\n",
    "            out.write(frames_to_write[f])\n",
    "            \n",
    "    finally:\n",
    "        out.release()"
   ]
  },
  {
   "cell_type": "markdown",
   "metadata": {},
   "source": [
    "# Sin conocer identidad previa"
   ]
  },
  {
   "cell_type": "code",
   "execution_count": 178,
   "metadata": {},
   "outputs": [],
   "source": [
    "df = pd.read_csv('../Personas/datos_personas.csv', index_col=['Frame', 'Index'])\n",
    "df.loc[:, 'ID'] = df.ID.astype(str)"
   ]
  },
  {
   "cell_type": "markdown",
   "metadata": {},
   "source": [
    "## Guardar todo"
   ]
  },
  {
   "cell_type": "code",
   "execution_count": 163,
   "metadata": {},
   "outputs": [
    {
     "name": "stdout",
     "output_type": "stream",
     "text": [
      "#### PROCESSING ####\n"
     ]
    },
    {
     "data": {
      "application/vnd.jupyter.widget-view+json": {
       "model_id": "6e5679eee3bb4affa411a4508a4c6e96",
       "version_major": 2,
       "version_minor": 0
      },
      "text/plain": [
       "HBox(children=(IntProgress(value=0, max=2412), HTML(value='')))"
      ]
     },
     "metadata": {},
     "output_type": "display_data"
    },
    {
     "name": "stdout",
     "output_type": "stream",
     "text": [
      "\n",
      "#### SAVING ####\n"
     ]
    },
    {
     "data": {
      "application/vnd.jupyter.widget-view+json": {
       "model_id": "58700b1a21f644cc88ed5d0d07f07a4a",
       "version_major": 2,
       "version_minor": 0
      },
      "text/plain": [
       "HBox(children=(IntProgress(value=0, max=2400), HTML(value='')))"
      ]
     },
     "metadata": {},
     "output_type": "display_data"
    },
    {
     "name": "stdout",
     "output_type": "stream",
     "text": [
      "\n"
     ]
    }
   ],
   "source": [
    "save_video(list(range(2412)), 'whole_video_sin_conocidos.avi', df)"
   ]
  },
  {
   "cell_type": "markdown",
   "metadata": {},
   "source": [
    "## Personas felices"
   ]
  },
  {
   "cell_type": "code",
   "execution_count": 164,
   "metadata": {},
   "outputs": [],
   "source": [
    "only_happy = df.loc[df.max_emotion == 'happy'].index.to_flat_index()"
   ]
  },
  {
   "cell_type": "code",
   "execution_count": 165,
   "metadata": {},
   "outputs": [
    {
     "name": "stdout",
     "output_type": "stream",
     "text": [
      "#### PROCESSING ####\n"
     ]
    },
    {
     "data": {
      "application/vnd.jupyter.widget-view+json": {
       "model_id": "bcb8709314684cb69f51996d0ea21290",
       "version_major": 2,
       "version_minor": 0
      },
      "text/plain": [
       "HBox(children=(IntProgress(value=0, max=554), HTML(value='')))"
      ]
     },
     "metadata": {},
     "output_type": "display_data"
    },
    {
     "name": "stdout",
     "output_type": "stream",
     "text": [
      "\n",
      "#### SAVING ####\n"
     ]
    },
    {
     "data": {
      "application/vnd.jupyter.widget-view+json": {
       "model_id": "357fa995bc91485aab67657a6c67a2fb",
       "version_major": 2,
       "version_minor": 0
      },
      "text/plain": [
       "HBox(children=(IntProgress(value=0, max=509), HTML(value='')))"
      ]
     },
     "metadata": {},
     "output_type": "display_data"
    },
    {
     "name": "stdout",
     "output_type": "stream",
     "text": [
      "\n"
     ]
    }
   ],
   "source": [
    "save_video(only_happy, 'only_happy.mp4', df)"
   ]
  },
  {
   "cell_type": "markdown",
   "metadata": {},
   "source": [
    "## Persona 1 feliz"
   ]
  },
  {
   "cell_type": "code",
   "execution_count": 166,
   "metadata": {},
   "outputs": [],
   "source": [
    "only_happy = df.loc[(df.max_emotion == 'happy') & (df.ID == '0')].index.to_flat_index()"
   ]
  },
  {
   "cell_type": "code",
   "execution_count": 167,
   "metadata": {},
   "outputs": [
    {
     "name": "stdout",
     "output_type": "stream",
     "text": [
      "#### PROCESSING ####\n"
     ]
    },
    {
     "data": {
      "application/vnd.jupyter.widget-view+json": {
       "model_id": "6fd12e055ed24866b699f3a316b6d95d",
       "version_major": 2,
       "version_minor": 0
      },
      "text/plain": [
       "HBox(children=(IntProgress(value=0, max=111), HTML(value='')))"
      ]
     },
     "metadata": {},
     "output_type": "display_data"
    },
    {
     "name": "stdout",
     "output_type": "stream",
     "text": [
      "\n",
      "#### SAVING ####\n"
     ]
    },
    {
     "data": {
      "application/vnd.jupyter.widget-view+json": {
       "model_id": "aed4f8a26277431e8beae6ad94668e4c",
       "version_major": 2,
       "version_minor": 0
      },
      "text/plain": [
       "HBox(children=(IntProgress(value=0, max=111), HTML(value='')))"
      ]
     },
     "metadata": {},
     "output_type": "display_data"
    },
    {
     "name": "stdout",
     "output_type": "stream",
     "text": [
      "\n"
     ]
    }
   ],
   "source": [
    "save_video(only_happy, 'only_P0_happy.mp4', df)"
   ]
  },
  {
   "cell_type": "markdown",
   "metadata": {},
   "source": [
    "## Persona 0"
   ]
  },
  {
   "cell_type": "code",
   "execution_count": 192,
   "metadata": {},
   "outputs": [],
   "source": [
    "only_0 = df.loc[df.ID == '0'].index.to_flat_index()"
   ]
  },
  {
   "cell_type": "code",
   "execution_count": 193,
   "metadata": {},
   "outputs": [
    {
     "name": "stdout",
     "output_type": "stream",
     "text": [
      "#### PROCESSING ####\n"
     ]
    },
    {
     "data": {
      "application/vnd.jupyter.widget-view+json": {
       "model_id": "7c908ee730604f53b42974345d3775a5",
       "version_major": 2,
       "version_minor": 0
      },
      "text/plain": [
       "HBox(children=(IntProgress(value=0, max=1657), HTML(value='')))"
      ]
     },
     "metadata": {},
     "output_type": "display_data"
    },
    {
     "name": "stdout",
     "output_type": "stream",
     "text": [
      "\n",
      "#### SAVING ####\n"
     ]
    },
    {
     "data": {
      "application/vnd.jupyter.widget-view+json": {
       "model_id": "b52e0e1880524a3d8ae6b5b8657e67b4",
       "version_major": 2,
       "version_minor": 0
      },
      "text/plain": [
       "HBox(children=(IntProgress(value=0, max=1657), HTML(value='')))"
      ]
     },
     "metadata": {},
     "output_type": "display_data"
    },
    {
     "name": "stdout",
     "output_type": "stream",
     "text": [
      "\n"
     ]
    }
   ],
   "source": [
    "save_video(only_0, 'only_P0.mp4', df)"
   ]
  },
  {
   "cell_type": "code",
   "execution_count": null,
   "metadata": {},
   "outputs": [],
   "source": []
  },
  {
   "cell_type": "markdown",
   "metadata": {},
   "source": [
    "## ¿A quién miran más cuando están alegres?"
   ]
  },
  {
   "cell_type": "code",
   "execution_count": 179,
   "metadata": {},
   "outputs": [
    {
     "data": {
      "text/plain": [
       "2.0     22\n",
       "4.0     14\n",
       "5.0     14\n",
       "3.0     13\n",
       "0.0      8\n",
       "10.0     5\n",
       "19.0     2\n",
       "1.0      2\n",
       "18.0     1\n",
       "Name: Mira A (ID), dtype: int64"
      ]
     },
     "execution_count": 179,
     "metadata": {},
     "output_type": "execute_result"
    }
   ],
   "source": [
    "df.loc[df.max_emotion == 'happy', 'Mira A (ID)'].value_counts()"
   ]
  },
  {
   "cell_type": "markdown",
   "metadata": {},
   "source": [
    "Como la persona que más miran estando alegres es P2 entonces mostraremos los las escenas cuando alguien mira a P2 para validar"
   ]
  },
  {
   "cell_type": "code",
   "execution_count": 188,
   "metadata": {},
   "outputs": [],
   "source": [
    "looks_at_2 = (df.loc[:, 'Mira A (ID)'] == 2)\n",
    "frames = df[looks_at_2].index.get_level_values('Frame')\n",
    "is_person_2 = df.loc[frames, 'ID'] == '2'"
   ]
  },
  {
   "cell_type": "code",
   "execution_count": 189,
   "metadata": {},
   "outputs": [
    {
     "name": "stdout",
     "output_type": "stream",
     "text": [
      "#### PROCESSING ####\n"
     ]
    },
    {
     "data": {
      "application/vnd.jupyter.widget-view+json": {
       "model_id": "e8bb03f278cc4ee0938ee4b4fb43b6c7",
       "version_major": 2,
       "version_minor": 0
      },
      "text/plain": [
       "HBox(children=(IntProgress(value=0, max=846), HTML(value='')))"
      ]
     },
     "metadata": {},
     "output_type": "display_data"
    },
    {
     "name": "stdout",
     "output_type": "stream",
     "text": [
      "\n",
      "#### SAVING ####\n"
     ]
    },
    {
     "data": {
      "application/vnd.jupyter.widget-view+json": {
       "model_id": "ce3f89318df64234b038da30e567b938",
       "version_major": 2,
       "version_minor": 0
      },
      "text/plain": [
       "HBox(children=(IntProgress(value=0, max=404), HTML(value='')))"
      ]
     },
     "metadata": {},
     "output_type": "display_data"
    },
    {
     "name": "stdout",
     "output_type": "stream",
     "text": [
      "\n"
     ]
    }
   ],
   "source": [
    "people_look_at_P2 = df.loc[looks_at_2 | is_person_2].index.to_flat_index()\n",
    "save_video(people_look_at_P2, 'people_look_at_P2.mp4', df)"
   ]
  },
  {
   "cell_type": "markdown",
   "metadata": {},
   "source": [
    "# Conociendo identidad previa"
   ]
  },
  {
   "cell_type": "code",
   "execution_count": 151,
   "metadata": {},
   "outputs": [
    {
     "data": {
      "text/html": [
       "<div>\n",
       "<style scoped>\n",
       "    .dataframe tbody tr th:only-of-type {\n",
       "        vertical-align: middle;\n",
       "    }\n",
       "\n",
       "    .dataframe tbody tr th {\n",
       "        vertical-align: top;\n",
       "    }\n",
       "\n",
       "    .dataframe thead th {\n",
       "        text-align: right;\n",
       "    }\n",
       "</style>\n",
       "<table border=\"1\" class=\"dataframe\">\n",
       "  <thead>\n",
       "    <tr style=\"text-align: right;\">\n",
       "      <th></th>\n",
       "      <th></th>\n",
       "      <th>angry</th>\n",
       "      <th>disgust</th>\n",
       "      <th>scared</th>\n",
       "      <th>happy</th>\n",
       "      <th>sad</th>\n",
       "      <th>surprised</th>\n",
       "      <th>neutral</th>\n",
       "      <th>max_emotion</th>\n",
       "      <th>yaw</th>\n",
       "      <th>pitch</th>\n",
       "      <th>roll</th>\n",
       "      <th>Mira A (Index)</th>\n",
       "      <th>bb_x_min</th>\n",
       "      <th>bb_y_min</th>\n",
       "      <th>bb_x_max</th>\n",
       "      <th>bb_y_max</th>\n",
       "      <th>ID</th>\n",
       "      <th>Mira A (ID)</th>\n",
       "    </tr>\n",
       "    <tr>\n",
       "      <th>Frame</th>\n",
       "      <th>Index</th>\n",
       "      <th></th>\n",
       "      <th></th>\n",
       "      <th></th>\n",
       "      <th></th>\n",
       "      <th></th>\n",
       "      <th></th>\n",
       "      <th></th>\n",
       "      <th></th>\n",
       "      <th></th>\n",
       "      <th></th>\n",
       "      <th></th>\n",
       "      <th></th>\n",
       "      <th></th>\n",
       "      <th></th>\n",
       "      <th></th>\n",
       "      <th></th>\n",
       "      <th></th>\n",
       "      <th></th>\n",
       "    </tr>\n",
       "  </thead>\n",
       "  <tbody>\n",
       "    <tr>\n",
       "      <th rowspan=\"2\" valign=\"top\">0</th>\n",
       "      <th>0</th>\n",
       "      <td>0.060592</td>\n",
       "      <td>0.004396</td>\n",
       "      <td>0.163676</td>\n",
       "      <td>0.105976</td>\n",
       "      <td>0.437814</td>\n",
       "      <td>0.009562</td>\n",
       "      <td>0.217985</td>\n",
       "      <td>sad</td>\n",
       "      <td>52.578339</td>\n",
       "      <td>-22.856438</td>\n",
       "      <td>-9.353592</td>\n",
       "      <td>1.0</td>\n",
       "      <td>500</td>\n",
       "      <td>57</td>\n",
       "      <td>545</td>\n",
       "      <td>127</td>\n",
       "      <td>Ross</td>\n",
       "      <td>6</td>\n",
       "    </tr>\n",
       "    <tr>\n",
       "      <th>1</th>\n",
       "      <td>0.129491</td>\n",
       "      <td>0.001115</td>\n",
       "      <td>0.046344</td>\n",
       "      <td>0.027393</td>\n",
       "      <td>0.084997</td>\n",
       "      <td>0.010530</td>\n",
       "      <td>0.700128</td>\n",
       "      <td>neutral</td>\n",
       "      <td>-74.909027</td>\n",
       "      <td>-2.250671</td>\n",
       "      <td>-3.394562</td>\n",
       "      <td>0.0</td>\n",
       "      <td>349</td>\n",
       "      <td>100</td>\n",
       "      <td>395</td>\n",
       "      <td>168</td>\n",
       "      <td>6</td>\n",
       "      <td>Ross</td>\n",
       "    </tr>\n",
       "    <tr>\n",
       "      <th rowspan=\"2\" valign=\"top\">1</th>\n",
       "      <th>0</th>\n",
       "      <td>0.035801</td>\n",
       "      <td>0.003362</td>\n",
       "      <td>0.154518</td>\n",
       "      <td>0.099085</td>\n",
       "      <td>0.434491</td>\n",
       "      <td>0.009204</td>\n",
       "      <td>0.263538</td>\n",
       "      <td>sad</td>\n",
       "      <td>52.877441</td>\n",
       "      <td>-24.682152</td>\n",
       "      <td>-11.488426</td>\n",
       "      <td>1.0</td>\n",
       "      <td>498</td>\n",
       "      <td>55</td>\n",
       "      <td>543</td>\n",
       "      <td>125</td>\n",
       "      <td>Ross</td>\n",
       "      <td>7</td>\n",
       "    </tr>\n",
       "    <tr>\n",
       "      <th>1</th>\n",
       "      <td>0.150720</td>\n",
       "      <td>0.001939</td>\n",
       "      <td>0.047514</td>\n",
       "      <td>0.060440</td>\n",
       "      <td>0.087675</td>\n",
       "      <td>0.011068</td>\n",
       "      <td>0.640644</td>\n",
       "      <td>neutral</td>\n",
       "      <td>-66.944817</td>\n",
       "      <td>-6.109840</td>\n",
       "      <td>-3.190430</td>\n",
       "      <td>0.0</td>\n",
       "      <td>352</td>\n",
       "      <td>101</td>\n",
       "      <td>395</td>\n",
       "      <td>168</td>\n",
       "      <td>7</td>\n",
       "      <td>Ross</td>\n",
       "    </tr>\n",
       "    <tr>\n",
       "      <th>2</th>\n",
       "      <th>0</th>\n",
       "      <td>0.029630</td>\n",
       "      <td>0.005719</td>\n",
       "      <td>0.143816</td>\n",
       "      <td>0.153038</td>\n",
       "      <td>0.269821</td>\n",
       "      <td>0.009704</td>\n",
       "      <td>0.388271</td>\n",
       "      <td>neutral</td>\n",
       "      <td>56.523651</td>\n",
       "      <td>-31.214188</td>\n",
       "      <td>-16.066132</td>\n",
       "      <td>1.0</td>\n",
       "      <td>497</td>\n",
       "      <td>54</td>\n",
       "      <td>541</td>\n",
       "      <td>124</td>\n",
       "      <td>Ross</td>\n",
       "      <td>8</td>\n",
       "    </tr>\n",
       "  </tbody>\n",
       "</table>\n",
       "</div>"
      ],
      "text/plain": [
       "                angry   disgust    scared     happy       sad  surprised  \\\n",
       "Frame Index                                                                \n",
       "0     0      0.060592  0.004396  0.163676  0.105976  0.437814   0.009562   \n",
       "      1      0.129491  0.001115  0.046344  0.027393  0.084997   0.010530   \n",
       "1     0      0.035801  0.003362  0.154518  0.099085  0.434491   0.009204   \n",
       "      1      0.150720  0.001939  0.047514  0.060440  0.087675   0.011068   \n",
       "2     0      0.029630  0.005719  0.143816  0.153038  0.269821   0.009704   \n",
       "\n",
       "              neutral max_emotion        yaw      pitch       roll  \\\n",
       "Frame Index                                                          \n",
       "0     0      0.217985         sad  52.578339 -22.856438  -9.353592   \n",
       "      1      0.700128     neutral -74.909027  -2.250671  -3.394562   \n",
       "1     0      0.263538         sad  52.877441 -24.682152 -11.488426   \n",
       "      1      0.640644     neutral -66.944817  -6.109840  -3.190430   \n",
       "2     0      0.388271     neutral  56.523651 -31.214188 -16.066132   \n",
       "\n",
       "             Mira A (Index)  bb_x_min  bb_y_min  bb_x_max  bb_y_max    ID  \\\n",
       "Frame Index                                                                 \n",
       "0     0                 1.0       500        57       545       127  Ross   \n",
       "      1                 0.0       349       100       395       168     6   \n",
       "1     0                 1.0       498        55       543       125  Ross   \n",
       "      1                 0.0       352       101       395       168     7   \n",
       "2     0                 1.0       497        54       541       124  Ross   \n",
       "\n",
       "            Mira A (ID)  \n",
       "Frame Index              \n",
       "0     0               6  \n",
       "      1            Ross  \n",
       "1     0               7  \n",
       "      1            Ross  \n",
       "2     0               8  "
      ]
     },
     "execution_count": 151,
     "metadata": {},
     "output_type": "execute_result"
    }
   ],
   "source": [
    "df = pd.read_csv('../Personas/datos_personas_conocidas.csv', index_col=['Frame', 'Index'])\n",
    "df.loc[:, 'ID'] = df.ID.astype(str)\n",
    "df.head()"
   ]
  },
  {
   "cell_type": "markdown",
   "metadata": {},
   "source": [
    "## Video completo"
   ]
  },
  {
   "cell_type": "code",
   "execution_count": 152,
   "metadata": {},
   "outputs": [
    {
     "name": "stdout",
     "output_type": "stream",
     "text": [
      "#### PROCESSING ####\n"
     ]
    },
    {
     "data": {
      "application/vnd.jupyter.widget-view+json": {
       "model_id": "e7f9c760d54d4113a41315da5051953c",
       "version_major": 2,
       "version_minor": 0
      },
      "text/plain": [
       "HBox(children=(IntProgress(value=0, max=2412), HTML(value='')))"
      ]
     },
     "metadata": {},
     "output_type": "display_data"
    },
    {
     "name": "stdout",
     "output_type": "stream",
     "text": [
      "\n",
      "#### SAVING ####\n"
     ]
    },
    {
     "data": {
      "application/vnd.jupyter.widget-view+json": {
       "model_id": "8840a5ca111240b99b743f0b4cd39981",
       "version_major": 2,
       "version_minor": 0
      },
      "text/plain": [
       "HBox(children=(IntProgress(value=0, max=2400), HTML(value='')))"
      ]
     },
     "metadata": {},
     "output_type": "display_data"
    },
    {
     "name": "stdout",
     "output_type": "stream",
     "text": [
      "\n"
     ]
    }
   ],
   "source": [
    "save_video(list(range(2412)), 'whole_video_con_conocidos.avi', df, conocidos=True)"
   ]
  },
  {
   "cell_type": "markdown",
   "metadata": {},
   "source": [
    "## Ross feliz"
   ]
  },
  {
   "cell_type": "code",
   "execution_count": 153,
   "metadata": {},
   "outputs": [],
   "source": [
    "only_happy = df.loc[(df.max_emotion == 'happy') & (df.ID == 'Ross')].index.to_flat_index()"
   ]
  },
  {
   "cell_type": "code",
   "execution_count": 154,
   "metadata": {},
   "outputs": [
    {
     "name": "stdout",
     "output_type": "stream",
     "text": [
      "#### PROCESSING ####\n"
     ]
    },
    {
     "data": {
      "application/vnd.jupyter.widget-view+json": {
       "model_id": "e80fb417bc6b46d7931bc18f056d3fcd",
       "version_major": 2,
       "version_minor": 0
      },
      "text/plain": [
       "HBox(children=(IntProgress(value=0, max=155), HTML(value='')))"
      ]
     },
     "metadata": {},
     "output_type": "display_data"
    },
    {
     "name": "stdout",
     "output_type": "stream",
     "text": [
      "\n",
      "#### SAVING ####\n"
     ]
    },
    {
     "data": {
      "application/vnd.jupyter.widget-view+json": {
       "model_id": "cea5a03fbc664f7081a16e70afcc712f",
       "version_major": 2,
       "version_minor": 0
      },
      "text/plain": [
       "HBox(children=(IntProgress(value=0, max=155), HTML(value='')))"
      ]
     },
     "metadata": {},
     "output_type": "display_data"
    },
    {
     "name": "stdout",
     "output_type": "stream",
     "text": [
      "\n"
     ]
    }
   ],
   "source": [
    "save_video(only_happy, 'only_ross_happy.avi', df, conocidos=True)"
   ]
  },
  {
   "cell_type": "markdown",
   "metadata": {},
   "source": [
    "## Ross mira a Chandler"
   ]
  },
  {
   "cell_type": "code",
   "execution_count": 157,
   "metadata": {},
   "outputs": [],
   "source": [
    "ross_mira_a_chandler = (df.ID == 'Ross') & (df.loc[:, 'Mira A (ID)'] == 'Chandler')\n",
    "frames = df[ross_mira_a_chandler].index.get_level_values('Frame')\n",
    "is_chandler = df.loc[frames, 'ID'] == 'Chandler'"
   ]
  },
  {
   "cell_type": "code",
   "execution_count": 158,
   "metadata": {},
   "outputs": [
    {
     "name": "stdout",
     "output_type": "stream",
     "text": [
      "#### PROCESSING ####\n"
     ]
    },
    {
     "data": {
      "application/vnd.jupyter.widget-view+json": {
       "model_id": "853aa912296f4bdcb924a93a0512b907",
       "version_major": 2,
       "version_minor": 0
      },
      "text/plain": [
       "HBox(children=(IntProgress(value=0, max=532), HTML(value='')))"
      ]
     },
     "metadata": {},
     "output_type": "display_data"
    },
    {
     "name": "stdout",
     "output_type": "stream",
     "text": [
      "\n",
      "#### SAVING ####\n"
     ]
    },
    {
     "data": {
      "application/vnd.jupyter.widget-view+json": {
       "model_id": "295a12a887aa426abd4dd38af12ef9ad",
       "version_major": 2,
       "version_minor": 0
      },
      "text/plain": [
       "HBox(children=(IntProgress(value=0, max=266), HTML(value='')))"
      ]
     },
     "metadata": {},
     "output_type": "display_data"
    },
    {
     "name": "stdout",
     "output_type": "stream",
     "text": [
      "\n"
     ]
    }
   ],
   "source": [
    "people_look_at_P2 = df.loc[ross_mira_a_chandler | is_chandler].index.to_flat_index()\n",
    "save_video(people_look_at_P2, 'ross_mira_a_chandler.mp4', df, conocidos=True)"
   ]
  },
  {
   "cell_type": "code",
   "execution_count": null,
   "metadata": {},
   "outputs": [],
   "source": []
  },
  {
   "cell_type": "code",
   "execution_count": null,
   "metadata": {},
   "outputs": [],
   "source": []
  },
  {
   "cell_type": "code",
   "execution_count": null,
   "metadata": {},
   "outputs": [],
   "source": []
  },
  {
   "cell_type": "code",
   "execution_count": null,
   "metadata": {},
   "outputs": [],
   "source": []
  },
  {
   "cell_type": "code",
   "execution_count": null,
   "metadata": {},
   "outputs": [],
   "source": []
  }
 ],
 "metadata": {
  "kernelspec": {
   "display_name": "Python 3",
   "language": "python",
   "name": "python3"
  },
  "language_info": {
   "codemirror_mode": {
    "name": "ipython",
    "version": 3
   },
   "file_extension": ".py",
   "mimetype": "text/x-python",
   "name": "python",
   "nbconvert_exporter": "python",
   "pygments_lexer": "ipython3",
   "version": "3.6.6"
  },
  "latex_envs": {
   "LaTeX_envs_menu_present": true,
   "autoclose": false,
   "autocomplete": true,
   "bibliofile": "biblio.bib",
   "cite_by": "apalike",
   "current_citInitial": 1,
   "eqLabelWithNumbers": true,
   "eqNumInitial": 1,
   "hotkeys": {
    "equation": "Ctrl-E",
    "itemize": "Ctrl-I"
   },
   "labels_anchors": false,
   "latex_user_defs": false,
   "report_style_numbering": false,
   "user_envs_cfg": false
  },
  "toc": {
   "base_numbering": 1,
   "nav_menu": {},
   "number_sections": true,
   "sideBar": true,
   "skip_h1_title": false,
   "title_cell": "Table of Contents",
   "title_sidebar": "Contents",
   "toc_cell": false,
   "toc_position": {},
   "toc_section_display": true,
   "toc_window_display": false
  }
 },
 "nbformat": 4,
 "nbformat_minor": 2
}
